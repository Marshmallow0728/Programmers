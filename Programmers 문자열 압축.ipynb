{
 "cells": [
  {
   "cell_type": "code",
   "execution_count": 104,
   "id": "00d3f7eb",
   "metadata": {},
   "outputs": [
    {
     "data": {
      "text/plain": [
       "17"
      ]
     },
     "execution_count": 104,
     "metadata": {},
     "output_type": "execute_result"
    }
   ],
   "source": [
    "def change(x):\n",
    "    return \"\" if x==1 else str(x)\n",
    "\n",
    "def compression(string,t):\n",
    "    sol=temp=\"\"\n",
    "    count=1\n",
    "    end=(len(string)//t)*t\n",
    "    \n",
    "    for i in range(0,end-t,t): #end-t 일떄는 따로 처리\n",
    "        same=True\n",
    "        for j in range(t):\n",
    "            if string[i+j]!=string[i+t+j]:\n",
    "                same=False\n",
    "        if same:\n",
    "            count+=1\n",
    "        else:\n",
    "            sol+=change(count)+string[i:i+t]\n",
    "            count=1\n",
    "    sol+=change(count)+string[end-t:end]\n",
    "    if end<len(s):\n",
    "        sol+=string[end:]\n",
    "    return sol\n",
    "\n",
    "def solution(s):\n",
    "    answer=len(s)\n",
    "    for t in range(1,len(s)//2+1):\n",
    "        temp=len(compression(s,t))\n",
    "        if answer>temp:\n",
    "            answer=temp\n",
    "    return answer\n",
    "\n",
    "s=\"xababcdcdababcdcd\"\n",
    "solution(s)"
   ]
  }
 ],
 "metadata": {
  "kernelspec": {
   "display_name": "Python 3",
   "language": "python",
   "name": "python3"
  },
  "language_info": {
   "codemirror_mode": {
    "name": "ipython",
    "version": 3
   },
   "file_extension": ".py",
   "mimetype": "text/x-python",
   "name": "python",
   "nbconvert_exporter": "python",
   "pygments_lexer": "ipython3",
   "version": "3.8.8"
  }
 },
 "nbformat": 4,
 "nbformat_minor": 5
}
