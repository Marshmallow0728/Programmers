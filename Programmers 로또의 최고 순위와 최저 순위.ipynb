{
 "cells": [
  {
   "cell_type": "code",
   "execution_count": 8,
   "id": "e02200f7",
   "metadata": {},
   "outputs": [
    {
     "data": {
      "text/plain": [
       "[1, 6]"
      ]
     },
     "execution_count": 8,
     "metadata": {},
     "output_type": "execute_result"
    }
   ],
   "source": [
    "def solution(lottos, win_nums):\n",
    "    max_score=min_score=0\n",
    "    for l in lottos:\n",
    "        if l==0:\n",
    "            max_score+=1\n",
    "        else:\n",
    "            for w in win_nums:\n",
    "                if w==l:\n",
    "                    min_score+=1\n",
    "                    break\n",
    "    max_score+=min_score          \n",
    "    # x개 맞추면 등수는 7-x 등\n",
    "    max_rank=min(7-max_score,6)\n",
    "    min_rank=min(7-min_score,6)\n",
    "    answer = [max_rank,min_rank]\n",
    "    return answer\n",
    "\n",
    "solution([0, 0, 0, 0, 0, 0], [38, 19, 20, 40, 15, 25])"
   ]
  }
 ],
 "metadata": {
  "kernelspec": {
   "display_name": "Python 3",
   "language": "python",
   "name": "python3"
  },
  "language_info": {
   "codemirror_mode": {
    "name": "ipython",
    "version": 3
   },
   "file_extension": ".py",
   "mimetype": "text/x-python",
   "name": "python",
   "nbconvert_exporter": "python",
   "pygments_lexer": "ipython3",
   "version": "3.8.8"
  }
 },
 "nbformat": 4,
 "nbformat_minor": 5
}
